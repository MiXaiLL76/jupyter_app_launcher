{
 "cells": [
  {
   "cell_type": "code",
   "execution_count": 1,
   "id": "a8da280e-cebd-4762-9d73-d60225f6c79c",
   "metadata": {
    "extensions": {
     "jupyter_dashboards": {
      "activeView": "grid_default",
      "views": {
       "grid_default": {
        "col": null,
        "height": 2,
        "hidden": true,
        "locked": true,
        "row": null,
        "width": 2
       }
      }
     }
    },
    "tags": []
   },
   "outputs": [],
   "source": [
    "try:\n",
    "    import piplite\n",
    "    await piplite.install(['ipywidgets==7.7.0', 'ipyflex', 'ipyleaflet'])\n",
    "except:\n",
    "    pass"
   ]
  },
  {
   "cell_type": "code",
   "execution_count": 2,
   "id": "e5cf8261-0e2e-4a78-8366-40cc62ede883",
   "metadata": {
    "extensions": {
     "jupyter_dashboards": {
      "activeView": "grid_default",
      "views": {
       "grid_default": {
        "col": null,
        "height": 2,
        "hidden": true,
        "locked": true,
        "row": null,
        "width": 2
       }
      }
     }
    },
    "tags": []
   },
   "outputs": [],
   "source": [
    "import ipywidgets\n",
    "import os"
   ]
  },
  {
   "cell_type": "code",
   "execution_count": 3,
   "id": "d87541d9-58d8-4a42-9922-edbdfb90518c",
   "metadata": {
    "extensions": {
     "jupyter_dashboards": {
      "activeView": "grid_default",
      "views": {
       "grid_default": {
        "col": 7,
        "height": 2,
        "hidden": false,
        "locked": false,
        "row": 1,
        "width": 5
       }
      }
     }
    },
    "tags": []
   },
   "outputs": [
    {
     "data": {
      "application/vnd.jupyter.widget-view+json": {
       "model_id": "d6ea6131bfa8443bbe9da6d669eef15a",
       "version_major": 2,
       "version_minor": 0
      },
      "text/plain": [
       "IntSlider(value=0)"
      ]
     },
     "metadata": {},
     "output_type": "display_data"
    }
   ],
   "source": [
    "ipywidgets.IntSlider()"
   ]
  },
  {
   "cell_type": "code",
   "execution_count": 4,
   "id": "37d51c24-4f21-4089-8c62-f96ecefaf8fc",
   "metadata": {
    "extensions": {
     "jupyter_dashboards": {
      "activeView": "grid_default",
      "views": {
       "grid_default": {
        "col": 0,
        "height": 12,
        "hidden": true,
        "locked": true,
        "row": 3,
        "width": 12
       }
      }
     }
    },
    "tags": []
   },
   "outputs": [],
   "source": [
    "from ipyleaflet import Map, basemaps, basemap_to_tiles\n",
    "\n",
    "m = Map(\n",
    "    basemap=basemap_to_tiles(basemaps.NASAGIBS.ModisTerraTrueColorCR, \"2017-04-08\"),\n",
    "    center=(52.204793, 360.121558),\n",
    "    zoom=4\n",
    ")\n",
    "\n"
   ]
  },
  {
   "cell_type": "code",
   "execution_count": 5,
   "id": "59e16c67-d06e-4caf-89c1-d7a6addb3589",
   "metadata": {
    "extensions": {
     "jupyter_dashboards": {
      "activeView": "grid_default",
      "views": {
       "grid_default": {
        "col": 4,
        "height": 3,
        "hidden": true,
        "locked": true,
        "row": 18,
        "width": 5
       }
      }
     }
    },
    "tags": []
   },
   "outputs": [
    {
     "data": {
      "application/vnd.jupyter.widget-view+json": {
       "model_id": "172b62b966c64e0d9b258df0952599d1",
       "version_major": 2,
       "version_minor": 0
      },
      "text/plain": [
       "IntSlider(value=0)"
      ]
     },
     "metadata": {},
     "output_type": "display_data"
    }
   ],
   "source": [
    "ipywidgets.IntSlider()"
   ]
  },
  {
   "cell_type": "markdown",
   "id": "b7c5a2c3-5686-40b8-9d86-1c0325d9117d",
   "metadata": {
    "extensions": {
     "jupyter_dashboards": {
      "activeView": "grid_default",
      "views": {
       "grid_default": {
        "col": 4,
        "height": 3,
        "hidden": false,
        "locked": true,
        "row": 0,
        "width": 3
       }
      }
     }
    },
    "tags": []
   },
   "source": [
    "# Foo"
   ]
  },
  {
   "cell_type": "code",
   "execution_count": 6,
   "id": "add0b305-71da-4e4e-9026-65af5ba3614b",
   "metadata": {
    "extensions": {
     "jupyter_dashboards": {
      "activeView": "grid_default",
      "views": {
       "grid_default": {
        "col": null,
        "height": 2,
        "hidden": true,
        "locked": true,
        "row": null,
        "width": 2
       }
      }
     }
    },
    "tags": []
   },
   "outputs": [],
   "source": [
    "import ipyflex"
   ]
  },
  {
   "cell_type": "code",
   "execution_count": 7,
   "id": "0f31e190-31cd-481e-bd7a-1b4ef9285a23",
   "metadata": {
    "extensions": {
     "jupyter_dashboards": {
      "activeView": "grid_default",
      "views": {
       "grid_default": {
        "col": 0,
        "height": 12,
        "hidden": false,
        "locked": true,
        "row": 3,
        "width": 12
       }
      }
     }
    },
    "tags": []
   },
   "outputs": [
    {
     "data": {
      "application/vnd.jupyter.widget-view+json": {
       "model_id": "c2272b98fb644b568a9fbc5e6e268355",
       "version_major": 2,
       "version_minor": 0
      },
      "text/plain": [
       "FlexLayout(children={'Widget 1': HTML(value='<h1>Widget 1</h1>'), 'Widget 2': HTML(value='<h1>Widget 2</h1>'),…"
      ]
     },
     "metadata": {},
     "output_type": "display_data"
    }
   ],
   "source": [
    "widgets = {\n",
    "    'Widget 1' : ipywidgets.HTML('<h1>Widget 1</h1>'),\n",
    "    'Widget 2' : ipywidgets.HTML('<h1>Widget 2</h1>'),\n",
    "    'Widget 3' : ipywidgets.HTML('<h1>Widget 3</h1>'),\n",
    "    'Widget 4' : ipywidgets.HTML('<h1>Widget 4</h1>')\n",
    "}\n",
    "\n",
    "ipyflex.FlexLayout(widgets, style={'height':'400px'}, template='./layout.json', editable=False, header=True)"
   ]
  },
  {
   "cell_type": "code",
   "execution_count": 8,
   "id": "ba01cb3f-0479-4e49-a2c5-4ceafda72896",
   "metadata": {
    "extensions": {
     "jupyter_dashboards": {
      "activeView": "grid_default",
      "views": {
       "grid_default": {
        "col": 1,
        "height": 2,
        "hidden": false,
        "locked": true,
        "row": 15,
        "width": 11
       }
      }
     }
    },
    "tags": []
   },
   "outputs": [
    {
     "data": {
      "text/plain": [
       "'/home/trungle/work/jupyter_app_launcher/samples'"
      ]
     },
     "execution_count": 8,
     "metadata": {},
     "output_type": "execute_result"
    }
   ],
   "source": [
    "os.getcwd()"
   ]
  },
  {
   "cell_type": "code",
   "execution_count": 8,
   "id": "09809959-7398-42db-a20d-6097a06b0072",
   "metadata": {
    "extensions": {
     "jupyter_dashboards": {
      "activeView": "grid_default",
      "views": {
       "grid_default": {
        "col": null,
        "height": 2,
        "hidden": true,
        "locked": true,
        "row": null,
        "width": 2
       }
      }
     }
    }
   },
   "outputs": [],
   "source": []
  }
 ],
 "metadata": {
  "extensions": {
   "jupyter_dashboards": {
    "activeView": "grid_default",
    "version": 1,
    "views": {
     "grid_default": {
      "cellMargin": 2,
      "defaultCellHeight": 40,
      "maxColumns": 12,
      "name": "grid",
      "type": "grid"
     }
    }
   }
  },
  "kernelspec": {
   "display_name": "Python 3.10.6 ('appdev')",
   "language": "python",
   "name": "python3"
  },
  "language_info": {
   "codemirror_mode": {
    "name": "ipython",
    "version": 3
   },
   "file_extension": ".py",
   "mimetype": "text/x-python",
   "name": "python",
   "nbconvert_exporter": "python",
   "pygments_lexer": "ipython3",
   "version": "3.10.6"
  },
  "vscode": {
   "interpreter": {
    "hash": "185c460d523eefc55d6b39dbbc1977f00a990069d85a8be858709cefa84b6425"
   }
  }
 },
 "nbformat": 4,
 "nbformat_minor": 5
}
